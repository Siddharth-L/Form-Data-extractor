{
 "cells": [
  {
   "cell_type": "markdown",
   "id": "95e3f457",
   "metadata": {},
   "source": [
    "CONVERTING MULTIPLE PDF TO JPEG\n"
   ]
  },
  {
   "cell_type": "code",
   "execution_count": 1,
   "id": "53c4859d",
   "metadata": {},
   "outputs": [],
   "source": [
    "from pdf2image import convert_from_path\n",
    "poppler_path=r'C:\\Users\\siddhu\\OneDrive\\Desktop\\Hackathon HTR\\poppler-22.01.0\\Library\\bin'\n",
    "pdf_path= 'Old Form 5.pdf'\n",
    "pages = convert_from_path(pdf_path=pdf_path,poppler_path= poppler_path)"
   ]
  },
  {
   "cell_type": "code",
   "execution_count": 2,
   "id": "8b228957",
   "metadata": {},
   "outputs": [],
   "source": [
    "import os\n",
    "saving_folder= r'C:\\Users\\siddhu\\OneDrive\\Desktop\\Hackathon HTR'\n",
    "c=1\n",
    "for page in pages:\n",
    "    img_name=f'img {c}.jpeg'\n",
    "    page.save(os.path.join(saving_folder,img_name),'JPEG')\n",
    "   "
   ]
  },
  {
   "cell_type": "markdown",
   "id": "dee81ac4",
   "metadata": {},
   "source": [
    "ACCESSING THAT SAVED JPEG FORM"
   ]
  },
  {
   "cell_type": "code",
   "execution_count": 3,
   "id": "3adb07e5",
   "metadata": {},
   "outputs": [],
   "source": [
    "import cv2\n",
    " \n",
    "image1 = cv2.imread('img 1.jpeg')\n",
    "\n",
    "image1_rs = cv2.resize(image1, (800, 800)) \n",
    "\n",
    "\n",
    "# to show \n",
    "#cv2.imshow('one',image1_rs)\n",
    "\n",
    "# to save \n",
    "cv2.imwrite('img rsed.jpeg',image1_rs)\n",
    "\n",
    "cv2.waitKey(0) \n",
    "  \n",
    "cv2.destroyAllWindows()"
   ]
  },
  {
   "cell_type": "code",
   "execution_count": 4,
   "id": "4a73c626",
   "metadata": {},
   "outputs": [
    {
     "data": {
      "text/plain": [
       "<matplotlib.image.AxesImage at 0x1f2379b6d10>"
      ]
     },
     "execution_count": 4,
     "metadata": {},
     "output_type": "execute_result"
    },
    {
     "data": {
      "image/png": "[encoded data removed]",
      "text/plain": [
       "<Figure size 432x288 with 1 Axes>"
      ]
     },
     "metadata": {
      "needs_background": "light"
     },
     "output_type": "display_data"
    }
   ],
   "source": [
    "import cv2\n",
    "import matplotlib.pyplot as plt\n",
    "\n",
    "img = cv2.imread('img rsed.jpeg')\n",
    "\n",
    "plt.title('img rsed')\n",
    "plt.imshow(img)\n"
   ]
  },
  {
   "cell_type": "markdown",
   "id": "4be7ab16",
   "metadata": {},
   "source": [
    "CROPPING THE RESIZED IMAGE"
   ]
  },
  {
   "cell_type": "code",
   "execution_count": 5,
   "id": "2e54395b",
   "metadata": {},
   "outputs": [
    {
     "data": {
      "text/plain": [
       "True"
      ]
     },
     "execution_count": 5,
     "metadata": {},
     "output_type": "execute_result"
    }
   ],
   "source": [
    "import cv2\n",
    "img = cv2.imread(\"img rsed.jpeg\")\n",
    "y=115\n",
    "x=227\n",
    "height=35\n",
    "width=373\n",
    "crop_name = img[y:y+height,x:x+width]  \n",
    "crop_age = img[154:193,227:370]\n",
    "crop_gender = img[154:190,520:662]\n",
    "crop_city = img[194:230,227:370]\n",
    "crop_state = img[193:230,520:662]\n",
    "crop_phone = img[231:270,227:663]\n",
    "crop_email = img[271:308,227:663]\n",
    "crop_checkbox = img[345:362,138:178]\n",
    "cv2.imwrite(r'C:\\Users\\siddhu\\OneDrive\\Desktop\\Hackathon HTR\\Extracted fields\\name.jpeg', crop_name)\n",
    "cv2.imwrite(r'C:\\Users\\siddhu\\OneDrive\\Desktop\\Hackathon HTR\\Extracted fields\\age.jpeg', crop_age)\n",
    "cv2.imwrite(r'C:\\Users\\siddhu\\OneDrive\\Desktop\\Hackathon HTR\\Extracted fields\\gender.jpeg', crop_gender)\n",
    "cv2.imwrite(r'C:\\Users\\siddhu\\OneDrive\\Desktop\\Hackathon HTR\\Extracted fields\\city.jpeg', crop_city)\n",
    "cv2.imwrite(r'C:\\Users\\siddhu\\OneDrive\\Desktop\\Hackathon HTR\\Extracted fields\\state.jpeg', crop_state)\n",
    "cv2.imwrite(r'C:\\Users\\siddhu\\OneDrive\\Desktop\\Hackathon HTR\\Extracted fields\\phone.jpeg', crop_phone)\n",
    "cv2.imwrite(r'C:\\Users\\siddhu\\OneDrive\\Desktop\\Hackathon HTR\\Extracted fields\\email.jpeg', crop_email)\n",
    "cv2.imwrite(r'C:\\Users\\siddhu\\OneDrive\\Desktop\\Hackathon HTR\\Extracted fields\\checkbox.jpeg', crop_checkbox)\n"
   ]
  },
  {
   "cell_type": "markdown",
   "id": "4331bfdf",
   "metadata": {},
   "source": [
    "Handwritten text extraction"
   ]
  },
  {
   "cell_type": "code",
   "execution_count": 6,
   "id": "a9151167",
   "metadata": {},
   "outputs": [],
   "source": [
    "import pytesseract\n",
    "pytesseract.pytesseract.tesseract_cmd=r'C:\\Program Files\\Tesseract-OCR\\tesseract.exe'\n",
    "import matplotlib.pyplot as plt\n",
    "import keras_ocr\n",
    "%matplotlib inline"
   ]
  },
  {
   "cell_type": "code",
   "execution_count": 7,
   "id": "39e94447",
   "metadata": {},
   "outputs": [
    {
     "data": {
      "text/plain": [
       "<Figure size 1152x720 with 0 Axes>"
      ]
     },
     "metadata": {},
     "output_type": "display_data"
    }
   ],
   "source": [
    "\n",
    "url = [\n",
    "     r'Extracted fields\\name.jpeg',\n",
    "    r'Extracted fields\\gender.jpeg',\n",
    "    r'Extracted fields\\city.jpeg',\n",
    "    r'Extracted fields\\state.jpeg',\n",
    "    r'Extracted fields\\email.jpeg',\n",
    "]\n",
    "\n",
    "images = [ keras_ocr.tools.read(i) for i in url]\n",
    "fig = plt.figure(figsize=(16,10))"
   ]
  },
  {
   "cell_type": "code",
   "execution_count": 8,
   "id": "5ddb8e3c",
   "metadata": {},
   "outputs": [
    {
     "name": "stdout",
     "output_type": "stream",
     "text": [
      "['GANESH.K\\n', 'MALE\\n', 'CHENAL\\n', 'KERALA\\n', 'Siddhu barath @ gmail.com\\n']\n"
     ]
    }
   ],
   "source": [
    "texts = []\n",
    "for img in images:\n",
    "    texts.append(pytesseract.image_to_string(img))\n",
    "print(texts)"
   ]
  },
  {
   "cell_type": "markdown",
   "id": "ee91d072",
   "metadata": {},
   "source": [
    "Digit extraction"
   ]
  },
  {
   "cell_type": "code",
   "execution_count": 9,
   "id": "011d9d93",
   "metadata": {},
   "outputs": [],
   "source": [
    "import easyocr\n",
    "import numpy as np\n",
    "import pandas as pd"
   ]
  },
  {
   "cell_type": "code",
   "execution_count": 10,
   "id": "9d441ed3",
   "metadata": {},
   "outputs": [],
   "source": [
    "image_age=cv2.imread(r'Extracted fields\\age.jpeg')\n",
    "image_phone=cv2.imread(r'Extracted fields\\phone.jpeg')"
   ]
  },
  {
   "cell_type": "code",
   "execution_count": null,
   "id": "b5215dd6",
   "metadata": {},
   "outputs": [
    {
     "name": "stderr",
     "output_type": "stream",
     "text": [
      "Using CPU. Note: This module is much faster with a GPU.\n",
      "C:\\Users\\suriy\\AppData\\Local\\Programs\\Python\\Python310\\lib\\site-packages\\torchvision\\models\\_utils.py:252: UserWarning: Accessing the model URLs via the internal dictionary of the module is deprecated since 0.13 and will be removed in 0.15. Please access them via the appropriate Weights Enum instead.\n",
      "  warnings.warn(\n",
      "C:\\Users\\suriy\\AppData\\Local\\Programs\\Python\\Python310\\lib\\site-packages\\torchvision\\models\\_utils.py:208: UserWarning: The parameter 'pretrained' is deprecated since 0.13 and will be removed in 0.15, please use 'weights' instead.\n",
      "  warnings.warn(\n",
      "C:\\Users\\suriy\\AppData\\Local\\Programs\\Python\\Python310\\lib\\site-packages\\torchvision\\models\\_utils.py:223: UserWarning: Arguments other than a weight enum or `None` for 'weights' are deprecated since 0.13 and will be removed in 0.15. The current behavior is equivalent to passing `weights=None`.\n",
      "  warnings.warn(msg)\n"
     ]
    }
   ],
   "source": [
    "digits=[]\n",
    "\n",
    "lang = easyocr.Reader(['en'],gpu=False)\n",
    "result1 = lang.readtext(image_age)\n",
    "\n",
    "\n",
    "digits.append(result1[0][1])\n",
    "\n",
    "\n"
   ]
  },
  {
   "cell_type": "code",
   "execution_count": null,
   "id": "60a63f44",
   "metadata": {},
   "outputs": [],
   "source": [
    "result2 = lang.readtext(image_phone)\n",
    "\n",
    "digits.append(result2[0][1])\n",
    "\n",
    "digits"
   ]
  },
  {
   "cell_type": "code",
   "execution_count": null,
   "id": "b25e16b6",
   "metadata": {},
   "outputs": [],
   "source": [
    "texts"
   ]
  },
  {
   "cell_type": "markdown",
   "id": "7d3b3015",
   "metadata": {},
   "source": [
    "Check box extraction"
   ]
  },
  {
   "cell_type": "code",
   "execution_count": null,
   "id": "41762868",
   "metadata": {},
   "outputs": [],
   "source": [
    "import numpy as np\n",
    "import cv2\n",
    "\n",
    "fixed= cv2.imread('fixed checkbox.jpeg')\n",
    "input1= cv2.imread(r'Extracted fields\\checkbox.jpeg')\n",
    "diff = cv2.subtract(fixed,input1)\n",
    "b, g, r = cv2.split(diff)\n",
    "print(cv2.countNonZero(b))\n",
    "if cv2.countNonZero(b) == 0 and cv2.countNonZero(g) == 0 and cv2.countNonZero(r) == 0:\n",
    "    texts.append(\"Yes\")\n",
    "else:\n",
    "    texts.append(\"No\")\n",
    "print(texts)\n"
   ]
  },
  {
   "cell_type": "code",
   "execution_count": null,
   "id": "41a8134e",
   "metadata": {},
   "outputs": [],
   "source": [
    "final=texts+digits\n",
    "final"
   ]
  },
  {
   "cell_type": "code",
   "execution_count": null,
   "id": "d00250e4",
   "metadata": {},
   "outputs": [],
   "source": [
    "fields = [\"Name:\"+final[0],\"Gender:\"+final[1],\"Age:\"+final[6],\"Phone:\"+final[7],\"City:\"+final[2],\"State:\"+final[3],\"Email:\"+final[4],\"Insurance:\"+final[5]]"
   ]
  },
  {
   "cell_type": "code",
   "execution_count": null,
   "id": "bd6761e9",
   "metadata": {},
   "outputs": [],
   "source": [
    "for i in range(len(fields)):\n",
    "    s=fields[i]\n",
    "    if(s[-1]=='\\n'):\n",
    "        print(s[:len(s)-1],sep=\"\\t\")\n",
    "        continue\n",
    "    print(fields[i])\n",
    "#print(''.join(i for i in fields))    "
   ]
  },
  {
   "cell_type": "markdown",
   "id": "032e8222",
   "metadata": {},
   "source": [
    "Tamil Data extraction"
   ]
  },
  {
   "cell_type": "code",
   "execution_count": null,
   "id": "4d4e5a8c",
   "metadata": {},
   "outputs": [],
   "source": [
    "from googletrans import Translator\n",
    "translater=Translator()\n",
    "for i in range(len(fields)):\n",
    " a=translater.translate(fields[i],dest=\"ta\")\n",
    " print(a.text)"
   ]
  },
  {
   "cell_type": "code",
   "execution_count": null,
   "id": "52376b55",
   "metadata": {},
   "outputs": [],
   "source": [
    "tamil_name= 'பெயர்: கணேஷ்.கே'\n",
    "tamil_gender='பாலினம்: ஆண்'\n",
    "\n"
   ]
  },
  {
   "cell_type": "code",
   "execution_count": null,
   "id": "207cfbc8",
   "metadata": {},
   "outputs": [],
   "source": [
    "from googletrans import Translator\n",
    "translater=Translator()\n",
    "\n",
    "tamil2eng_name=translater.translate(tamil_name,dest=\"en\")\n",
    "print(tamil2eng_name.text)"
   ]
  },
  {
   "cell_type": "code",
   "execution_count": null,
   "id": "b0a76397",
   "metadata": {},
   "outputs": [],
   "source": [
    "\n",
    "translater=Translator()\n",
    "\n",
    "tamil2eng_gender=translater.translate(tamil_gender,dest=\"en\")\n",
    "print(tamil2eng_gender.text)"
   ]
  },
  {
   "cell_type": "code",
   "execution_count": null,
   "id": "25ec15e8",
   "metadata": {},
   "outputs": [],
   "source": [
    "from googletrans import Translator\n",
    "translater=Translator()\n",
    "tamil=['கணேஷ்.கே','ஆண்']\n",
    "for i in tamil:\n",
    "    eng=translater.translate(i,dest=\"en\")\n",
    "    print(eng.text)"
   ]
  },
  {
   "cell_type": "code",
   "execution_count": null,
   "id": "a58c2fea",
   "metadata": {},
   "outputs": [],
   "source": []
  }
 ],
 "metadata": {
  "kernelspec": {
   "display_name": "Python 3 (ipykernel)",
   "language": "python",
   "name": "python3"
  },
  "language_info": {
   "codemirror_mode": {
    "name": "ipython",
    "version": 3
   },
   "file_extension": ".py",
   "mimetype": "text/x-python",
   "name": "python",
   "nbconvert_exporter": "python",
   "pygments_lexer": "ipython3",
   "version": "3.10.0"
  }
 },
 "nbformat": 4,
 "nbformat_minor": 5
}
